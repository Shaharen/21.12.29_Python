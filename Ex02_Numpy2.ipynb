{
 "cells": [
  {
   "cell_type": "code",
   "execution_count": 1,
   "id": "3039159a",
   "metadata": {},
   "outputs": [],
   "source": [
    "import numpy as np"
   ]
  },
  {
   "cell_type": "code",
   "execution_count": 2,
   "id": "f62bfeb8",
   "metadata": {},
   "outputs": [
    {
     "data": {
      "text/plain": [
       "array([[0.1203314 , 0.96391108, 0.56648993],\n",
       "       [0.44193139, 0.5184015 , 0.31515246]])"
      ]
     },
     "execution_count": 2,
     "metadata": {},
     "output_type": "execute_result"
    }
   ],
   "source": [
    "# 랜덤값으로 배열 생성하기\n",
    "# np, random, random(배열의 크기)\n",
    "# 0~1 사이의 값을 가지는 배열을 생성\n",
    "np.random.rand(2,3)"
   ]
  },
  {
   "cell_type": "code",
   "execution_count": 3,
   "id": "04b2692e",
   "metadata": {},
   "outputs": [
    {
     "data": {
      "text/plain": [
       "array([[ 2,  2, 10],\n",
       "       [ 4,  7,  3]])"
      ]
     },
     "execution_count": 3,
     "metadata": {},
     "output_type": "execute_result"
    }
   ],
   "source": [
    "# 내가 원하는 범위만큼의 랜덤값 생성\n",
    "# np, random, randint(시작수, 끝수+1, size=배열의 크기)\n",
    "np.random.randint(2,11,size=(2,3))"
   ]
  },
  {
   "cell_type": "code",
   "execution_count": 4,
   "id": "fcddba81",
   "metadata": {},
   "outputs": [
    {
     "data": {
      "text/plain": [
       "array([[5.17245332, 4.84008841, 3.892138  , 9.28891699],\n",
       "       [3.38295133, 5.09816312, 6.4605953 , 4.18602139],\n",
       "       [5.17339566, 2.86273971, 2.72122712, 7.03487259],\n",
       "       [4.90915052, 5.23677422, 3.13132332, 3.66581827],\n",
       "       [9.70879842, 3.46368847, 6.82257189, 2.20598974]])"
      ]
     },
     "execution_count": 4,
     "metadata": {},
     "output_type": "execute_result"
    }
   ],
   "source": [
    "# 2부터 10까지의 랜덤한 실수값으로 이루어진 (5,4)크기의 배열 생성\n",
    "# 정수 + 실수 = 실수\n",
    "정수 = np.random.randint(2,10,size=(5,4))\n",
    "소숫점 = np.random.rand(5,4)\n",
    "실수 = 정수 + 소숫점\n",
    "num = np.random.rand(5,4)+np.random.randint(2,10,size=(5,4))\n",
    "num"
   ]
  },
  {
   "cell_type": "code",
   "execution_count": 5,
   "id": "5a151450",
   "metadata": {},
   "outputs": [
    {
     "data": {
      "text/plain": [
       "array([[ 5.21086432,  5.62797715,  4.17043312,  9.6180461 ],\n",
       "       [ 3.58285783,  5.19777219,  7.33866249,  5.13800069],\n",
       "       [ 5.811326  ,  3.54060206,  2.97768039,  7.8927648 ],\n",
       "       [ 5.07283361,  5.77209871,  3.90219883,  4.26118555],\n",
       "       [10.64465054,  3.6071787 ,  7.74841957,  3.00432426]])"
      ]
     },
     "execution_count": 5,
     "metadata": {},
     "output_type": "execute_result"
    }
   ],
   "source": [
    "float=np.random.rand(5,4)\n",
    "result = num+float\n",
    "result"
   ]
  },
  {
   "cell_type": "code",
   "execution_count": 6,
   "id": "5a206b8f",
   "metadata": {},
   "outputs": [
    {
     "data": {
      "text/plain": [
       "array([ 0,  1,  2,  3,  4,  5,  6,  7,  8,  9, 10, 11, 12, 13, 14, 15, 16,\n",
       "       17, 18, 19, 20, 21, 22, 23, 24, 25, 26, 27, 28, 29, 30, 31, 32, 33,\n",
       "       34, 35, 36, 37, 38, 39, 40, 41, 42, 43, 44, 45, 46, 47, 48, 49])"
      ]
     },
     "execution_count": 6,
     "metadata": {},
     "output_type": "execute_result"
    }
   ],
   "source": [
    "# 연속되는 숫자로 배열 생성하기\n",
    "# arange(시작하는 수, 끝나는 수+1, 간격이 되는수)\n",
    "# 시작하는 수 기본값 : 0\n",
    "# 간격이 되는 수 기본값 : 1\n",
    "np.arange(0,50,1)"
   ]
  },
  {
   "cell_type": "code",
   "execution_count": 7,
   "id": "1e46e5dd",
   "metadata": {},
   "outputs": [
    {
     "data": {
      "text/plain": [
       "array([ 1, 11, 21, 31, 41])"
      ]
     },
     "execution_count": 7,
     "metadata": {},
     "output_type": "execute_result"
    }
   ],
   "source": [
    "np.arange(1,50,10)"
   ]
  },
  {
   "cell_type": "code",
   "execution_count": 8,
   "id": "81a87b30",
   "metadata": {},
   "outputs": [
    {
     "data": {
      "text/plain": [
       "array([ 1.,  2.,  3.,  4.,  5.,  6.,  7.,  8.,  9., 10., 11., 12., 13.,\n",
       "       14., 15., 16., 17., 18., 19., 20., 21., 22., 23., 24., 25., 26.,\n",
       "       27., 28., 29., 30., 31., 32., 33., 34., 35., 36., 37., 38., 39.,\n",
       "       40., 41., 42., 43., 44., 45., 46., 47., 48., 49., 50.])"
      ]
     },
     "execution_count": 8,
     "metadata": {},
     "output_type": "execute_result"
    }
   ],
   "source": [
    "# 1부터 50까지 1씩 커지는 배열 만들기\n",
    "# np.linspace(시작하는 수, 끝나는 수, 등분할 값)\n",
    "# 같은 간격만큼의 배열을 만들떄 사용\n",
    "np.linspace(1,50,50)"
   ]
  },
  {
   "cell_type": "code",
   "execution_count": 9,
   "id": "c1c16694",
   "metadata": {},
   "outputs": [
    {
     "name": "stdout",
     "output_type": "stream",
     "text": [
      "1.0\n",
      "3.5789473684210527\n",
      "6.157894736842105\n",
      "8.736842105263158\n",
      "11.31578947368421\n",
      "13.894736842105264\n",
      "16.473684210526315\n",
      "19.05263157894737\n",
      "21.63157894736842\n",
      "24.210526315789473\n",
      "26.789473684210527\n",
      "29.36842105263158\n",
      "31.94736842105263\n",
      "34.526315789473685\n",
      "37.10526315789474\n",
      "39.68421052631579\n",
      "42.26315789473684\n",
      "44.8421052631579\n",
      "47.421052631578945\n",
      "50.0\n"
     ]
    }
   ],
   "source": [
    "for i in np.linspace(1,50,20) :\n",
    "    print(i)"
   ]
  },
  {
   "cell_type": "code",
   "execution_count": 10,
   "id": "92d1886b",
   "metadata": {},
   "outputs": [],
   "source": [
    "### 배열의 생성 ###"
   ]
  },
  {
   "cell_type": "code",
   "execution_count": 11,
   "id": "3290ebf1",
   "metadata": {},
   "outputs": [],
   "source": [
    "### 배열의 기능 ###"
   ]
  },
  {
   "cell_type": "code",
   "execution_count": 12,
   "id": "ad974427",
   "metadata": {},
   "outputs": [
    {
     "data": {
      "text/plain": [
       "array([[1, 2, 3],\n",
       "       [4, 5, 6]])"
      ]
     },
     "execution_count": 12,
     "metadata": {},
     "output_type": "execute_result"
    }
   ],
   "source": [
    "arr=np.array([[1,2,3],[4,5,6]])\n",
    "arr"
   ]
  },
  {
   "cell_type": "code",
   "execution_count": 13,
   "id": "d37d3da9",
   "metadata": {},
   "outputs": [
    {
     "data": {
      "text/plain": [
       "array([1, 2, 3])"
      ]
     },
     "execution_count": 13,
     "metadata": {},
     "output_type": "execute_result"
    }
   ],
   "source": [
    "# 인덱싱\n",
    "# []\n",
    "# 2차원에서 0번째 출력\n",
    "arr[0]"
   ]
  },
  {
   "cell_type": "code",
   "execution_count": 14,
   "id": "5197e10d",
   "metadata": {},
   "outputs": [
    {
     "name": "stdout",
     "output_type": "stream",
     "text": [
      "2\n",
      "2\n"
     ]
    }
   ],
   "source": [
    "print(arr[0,1])\n",
    "print(arr[0][1])"
   ]
  },
  {
   "cell_type": "code",
   "execution_count": 15,
   "id": "35dc6521",
   "metadata": {},
   "outputs": [
    {
     "data": {
      "text/plain": [
       "array([0, 1, 2, 3, 4, 5, 6, 7, 8, 9])"
      ]
     },
     "execution_count": 15,
     "metadata": {},
     "output_type": "execute_result"
    }
   ],
   "source": [
    "# 슬라이싱\n",
    "# 0 ~ 9 까지 담긴 배열 생성\n",
    "arr1 = np.arange(10)\n",
    "arr1"
   ]
  },
  {
   "cell_type": "code",
   "execution_count": 16,
   "id": "fa1393ff",
   "metadata": {},
   "outputs": [
    {
     "data": {
      "text/plain": [
       "array([3, 4, 5, 6, 7])"
      ]
     },
     "execution_count": 16,
     "metadata": {},
     "output_type": "execute_result"
    }
   ],
   "source": [
    "# 3부터 7까지 출력\n",
    "arr1[3:8]"
   ]
  },
  {
   "cell_type": "code",
   "execution_count": 17,
   "id": "84c85557",
   "metadata": {},
   "outputs": [
    {
     "data": {
      "text/plain": [
       "[array([], dtype=float64),\n",
       " array([], dtype=float64),\n",
       " array([], dtype=float64),\n",
       " array([], dtype=float64),\n",
       " array([], dtype=float64)]"
      ]
     },
     "execution_count": 17,
     "metadata": {},
     "output_type": "execute_result"
    }
   ],
   "source": [
    "arr =[]\n",
    "num = 10*i\n",
    "for i in range(5):\n",
    "    arr.append(np.arange(0+num,num))\n",
    "arr"
   ]
  },
  {
   "cell_type": "code",
   "execution_count": 18,
   "id": "64683ba4",
   "metadata": {},
   "outputs": [
    {
     "data": {
      "text/plain": [
       "array([ 0,  1,  2,  3,  4,  5,  6,  7,  8,  9, 10, 11, 12, 13, 14, 15, 16,\n",
       "       17, 18, 19, 20, 21, 22, 23, 24, 25, 26, 27, 28, 29, 30, 31, 32, 33,\n",
       "       34, 35, 36, 37, 38, 39, 40, 41, 42, 43, 44, 45, 46, 47, 48, 49])"
      ]
     },
     "execution_count": 18,
     "metadata": {},
     "output_type": "execute_result"
    }
   ],
   "source": [
    "# 0 ~ 49 까지 정수의 값이 담겨있는 array 생성\n",
    "arr2 = np.arange(50)\n",
    "arr2"
   ]
  },
  {
   "cell_type": "code",
   "execution_count": 19,
   "id": "fd426705",
   "metadata": {},
   "outputs": [
    {
     "data": {
      "text/plain": [
       "array([[ 0,  1,  2,  3,  4,  5,  6,  7,  8,  9],\n",
       "       [10, 11, 12, 13, 14, 15, 16, 17, 18, 19],\n",
       "       [20, 21, 22, 23, 24, 25, 26, 27, 28, 29],\n",
       "       [30, 31, 32, 33, 34, 35, 36, 37, 38, 39],\n",
       "       [40, 41, 42, 43, 44, 45, 46, 47, 48, 49]])"
      ]
     },
     "execution_count": 19,
     "metadata": {},
     "output_type": "execute_result"
    }
   ],
   "source": [
    "# arr2를 (5,10)으로 재 배열하기\n",
    "# reshape\n",
    "# 바뀌기 전과 후의 데이터 수가 같아야함\n",
    "arr2.reshape(5,10)"
   ]
  },
  {
   "cell_type": "code",
   "execution_count": 20,
   "id": "0de5849a",
   "metadata": {},
   "outputs": [
    {
     "data": {
      "text/plain": [
       "array([[ 0,  1,  2,  3,  4,  5,  6,  7,  8,  9],\n",
       "       [10, 11, 12, 13, 14, 15, 16, 17, 18, 19],\n",
       "       [20, 21, 22, 23, 24, 25, 26, 27, 28, 29],\n",
       "       [30, 31, 32, 33, 34, 35, 36, 37, 38, 39],\n",
       "       [40, 41, 42, 43, 44, 45, 46, 47, 48, 49]])"
      ]
     },
     "execution_count": 20,
     "metadata": {},
     "output_type": "execute_result"
    }
   ],
   "source": [
    "# reshape 는 출력을 진행하지만 저장은 안함\n",
    "# 변수에 담아주면 저장이 됨\n",
    "arr2 = arr2.reshape(5,10)\n",
    "arr2"
   ]
  },
  {
   "cell_type": "code",
   "execution_count": 21,
   "id": "2c8cd52d",
   "metadata": {},
   "outputs": [
    {
     "name": "stdout",
     "output_type": "stream",
     "text": [
      "[[ 0  1  2  3  4  5  6  7  8  9]\n",
      " [10 11 12 13 14 15 16 17 18 19]]\n"
     ]
    },
    {
     "data": {
      "text/plain": [
       "array([[ 0,  1,  2,  3,  4,  5,  6,  7,  8,  9],\n",
       "       [10, 11, 12, 13, 14, 15, 16, 17, 18, 19]])"
      ]
     },
     "execution_count": 21,
     "metadata": {},
     "output_type": "execute_result"
    }
   ],
   "source": [
    "# 2차원 슬라이싱 []\n",
    "print(arr2[0:2,0:10])\n",
    "# 시작수 : 끝수 + 1\n",
    "# : 끝수 +1 = 처음부터 끝수까지\n",
    "# 시작수 : = 시작수부터 끝까지\n",
    "# : = 처음부터 끝까지\n",
    "arr2[0:2,:]"
   ]
  },
  {
   "cell_type": "code",
   "execution_count": 22,
   "id": "4406e56d",
   "metadata": {},
   "outputs": [
    {
     "data": {
      "text/plain": [
       "array([[ 0],\n",
       "       [10],\n",
       "       [20],\n",
       "       [30],\n",
       "       [40]])"
      ]
     },
     "execution_count": 22,
     "metadata": {},
     "output_type": "execute_result"
    }
   ],
   "source": [
    "arr2[:,:1]"
   ]
  },
  {
   "cell_type": "code",
   "execution_count": 23,
   "id": "d553d2e8",
   "metadata": {},
   "outputs": [
    {
     "data": {
      "text/plain": [
       "array([[ 0,  1,  2,  3,  4],\n",
       "       [10, 11, 12, 13, 14],\n",
       "       [20, 21, 22, 23, 24],\n",
       "       [30, 31, 32, 33, 34]])"
      ]
     },
     "execution_count": 23,
     "metadata": {},
     "output_type": "execute_result"
    }
   ],
   "source": [
    "arr2[:4,:5]"
   ]
  },
  {
   "cell_type": "code",
   "execution_count": 24,
   "id": "d2d71808",
   "metadata": {},
   "outputs": [
    {
     "data": {
      "text/plain": [
       "array([[175.2, 180.3, 175. , 169.2, 185.2, 188. , 177.6, 178.2, 177. ,\n",
       "        179. ],\n",
       "       [ 65.6,  88. ,  79.2,  69.3,  55. ,  71.2,  73. ,  68.9,  74. ,\n",
       "         82. ]])"
      ]
     },
     "execution_count": 24,
     "metadata": {},
     "output_type": "execute_result"
    }
   ],
   "source": [
    "# 파일 불러오기\n",
    "data = np.loadtxt(\"height_weight.txt\", delimiter = ',')\n",
    "data"
   ]
  },
  {
   "cell_type": "code",
   "execution_count": 25,
   "id": "78c32cc6",
   "metadata": {},
   "outputs": [
    {
     "name": "stdout",
     "output_type": "stream",
     "text": [
      "[21.37153104 27.07018468 25.86122449 24.20652885 16.03543423 20.14486193\n",
      " 23.14392095 21.69720651 23.62028791 25.59220998]\n"
     ]
    }
   ],
   "source": [
    "bmi =[]\n",
    "\n",
    "for j in range(0,10,1) :\n",
    "    i = j+1\n",
    "    t = data[:1,:i]/100\n",
    "    w = data[:2,:i]\n",
    "    result = w / (t*t)\n",
    "    bmi.append(result)\n",
    "print(bmi[9][1])"
   ]
  },
  {
   "cell_type": "code",
   "execution_count": 26,
   "id": "05b1d9f5",
   "metadata": {},
   "outputs": [
    {
     "data": {
      "text/plain": [
       "array([21.37153104, 27.07018468, 25.86122449, 24.20652885, 16.03543423,\n",
       "       20.14486193, 23.14392095, 21.69720651, 23.62028791, 25.59220998])"
      ]
     },
     "execution_count": 26,
     "metadata": {},
     "output_type": "execute_result"
    }
   ],
   "source": [
    "bmi = data[1,:] / data[0,:]**2\n",
    "bmi*10000"
   ]
  },
  {
   "cell_type": "code",
   "execution_count": 27,
   "id": "dff9e0dc",
   "metadata": {},
   "outputs": [
    {
     "name": "stdout",
     "output_type": "stream",
     "text": [
      "0 번 결과 :  []\n",
      "1 번 결과 :  [21.37153104]\n",
      "2 번 결과 :  [21.37153104 27.07018468]\n",
      "3 번 결과 :  [21.37153104 27.07018468 25.86122449]\n",
      "4 번 결과 :  [21.37153104 27.07018468 25.86122449 24.20652885]\n",
      "5 번 결과 :  [21.37153104 27.07018468 25.86122449 24.20652885 16.03543423]\n",
      "6 번 결과 :  [21.37153104 27.07018468 25.86122449 24.20652885 16.03543423 20.14486193]\n",
      "7 번 결과 :  [21.37153104 27.07018468 25.86122449 24.20652885 16.03543423 20.14486193\n",
      " 23.14392095]\n",
      "8 번 결과 :  [21.37153104 27.07018468 25.86122449 24.20652885 16.03543423 20.14486193\n",
      " 23.14392095 21.69720651]\n",
      "9 번 결과 :  [21.37153104 27.07018468 25.86122449 24.20652885 16.03543423 20.14486193\n",
      " 23.14392095 21.69720651 23.62028791]\n",
      "[array([21.37153104, 27.07018468, 25.86122449, 24.20652885, 16.03543423,\n",
      "       20.14486193, 23.14392095, 21.69720651, 23.62028791])]\n"
     ]
    }
   ],
   "source": [
    "bmi2 = []\n",
    "\n",
    "for i in range(0,10,1) :\n",
    "    result = (data[1,:i] / data[0,:i]**2)*10000\n",
    "    print(i,'번 결과 : ',result)\n",
    "bmi2.append(result)\n",
    "print(bmi2)"
   ]
  },
  {
   "cell_type": "code",
   "execution_count": 28,
   "id": "64ebd946",
   "metadata": {},
   "outputs": [
    {
     "name": "stdout",
     "output_type": "stream",
     "text": [
      "0 번 결과 :  21.37153103563312\n",
      "1 번 결과 :  27.07018468325884\n",
      "2 번 결과 :  25.86122448979592\n",
      "3 번 결과 :  24.206528846637497\n",
      "4 번 결과 :  16.03543422789676\n",
      "5 번 결과 :  20.144861928474423\n",
      "6 번 결과 :  23.143920947975005\n",
      "7 번 결과 :  21.697206508280214\n",
      "8 번 결과 :  23.620287912158062\n",
      "9 번 결과 :  25.59220998096189\n",
      "[21.37153103563312, 27.07018468325884, 25.86122448979592, 24.206528846637497, 16.03543422789676, 20.144861928474423, 23.143920947975005, 21.697206508280214, 23.620287912158062, 25.59220998096189]\n"
     ]
    }
   ],
   "source": [
    "bmi3 = []\n",
    "\n",
    "for i in range(0,10,1) :\n",
    "    result = (data[1,i] / data[0,i]**2)*10000\n",
    "    print(i,'번 결과 : ',result)\n",
    "    bmi3.append(result)\n",
    "print(bmi3)"
   ]
  },
  {
   "cell_type": "code",
   "execution_count": 29,
   "id": "44908713",
   "metadata": {},
   "outputs": [
    {
     "data": {
      "text/plain": [
       "array([1.752, 1.803, 1.75 , 1.692, 1.852, 1.88 , 1.776, 1.782, 1.77 ,\n",
       "       1.79 ])"
      ]
     },
     "execution_count": 29,
     "metadata": {},
     "output_type": "execute_result"
    }
   ],
   "source": [
    "키_cm = data[0]\n",
    "키_m = 키_cm/100\n",
    "키_m"
   ]
  },
  {
   "cell_type": "code",
   "execution_count": 30,
   "id": "bb0ea761",
   "metadata": {},
   "outputs": [
    {
     "data": {
      "text/plain": [
       "array([65.6, 88. , 79.2, 69.3, 55. , 71.2, 73. , 68.9, 74. , 82. ])"
      ]
     },
     "execution_count": 30,
     "metadata": {},
     "output_type": "execute_result"
    }
   ],
   "source": [
    "몸무게 = data[1]\n",
    "몸무게"
   ]
  },
  {
   "cell_type": "code",
   "execution_count": 31,
   "id": "4df25ada",
   "metadata": {},
   "outputs": [
    {
     "data": {
      "text/plain": [
       "array([21.37153104, 27.07018468, 25.86122449, 24.20652885, 16.03543423,\n",
       "       20.14486193, 23.14392095, 21.69720651, 23.62028791, 25.59220998])"
      ]
     },
     "execution_count": 31,
     "metadata": {},
     "output_type": "execute_result"
    }
   ],
   "source": [
    "몸무게 / ( 키_m * 키_m )"
   ]
  },
  {
   "cell_type": "code",
   "execution_count": 32,
   "id": "0ac9ead2",
   "metadata": {},
   "outputs": [
    {
     "data": {
      "text/plain": [
       "array([10, 20, 15, 30])"
      ]
     },
     "execution_count": 32,
     "metadata": {},
     "output_type": "execute_result"
    }
   ],
   "source": [
    "# Boolean 인덱싱\n",
    "# True는 출력하고 False 는 출력하지 않음\n",
    "# 인덱싱을 진행할때 값의 개수와 동일한 수의 불리언 데이터 필요\n",
    "# 원하는 조건에 맞는 값을 출력하는 방법\n",
    "arr3 = np.array([10,20,15,30])\n",
    "arr3"
   ]
  },
  {
   "cell_type": "code",
   "execution_count": 33,
   "id": "e73a419b",
   "metadata": {},
   "outputs": [
    {
     "data": {
      "text/plain": [
       "array([ True, False,  True, False])"
      ]
     },
     "execution_count": 33,
     "metadata": {},
     "output_type": "execute_result"
    }
   ],
   "source": [
    "bol = np.array([True,False,True,False])\n",
    "bol"
   ]
  },
  {
   "cell_type": "code",
   "execution_count": 34,
   "id": "9f28a7b3",
   "metadata": {},
   "outputs": [
    {
     "data": {
      "text/plain": [
       "array([10, 15])"
      ]
     },
     "execution_count": 34,
     "metadata": {},
     "output_type": "execute_result"
    }
   ],
   "source": [
    "arr3[bol]"
   ]
  },
  {
   "cell_type": "code",
   "execution_count": 35,
   "id": "eef45355",
   "metadata": {},
   "outputs": [
    {
     "name": "stdout",
     "output_type": "stream",
     "text": [
      "[ True False  True False]\n"
     ]
    }
   ],
   "source": [
    "arr4 = arr3 <17\n",
    "print(arr4)"
   ]
  },
  {
   "cell_type": "code",
   "execution_count": 36,
   "id": "ecaf506e",
   "metadata": {},
   "outputs": [
    {
     "data": {
      "text/plain": [
       "array([10, 15])"
      ]
     },
     "execution_count": 36,
     "metadata": {},
     "output_type": "execute_result"
    }
   ],
   "source": [
    "arr3[arr4]"
   ]
  },
  {
   "cell_type": "code",
   "execution_count": 37,
   "id": "aba309d0",
   "metadata": {},
   "outputs": [
    {
     "name": "stdout",
     "output_type": "stream",
     "text": [
      "[False  True False False]\n"
     ]
    }
   ],
   "source": [
    "# arr3 에서 20인 값만 출력\n",
    "arr4 = arr3 == 20\n",
    "print(arr4)"
   ]
  },
  {
   "cell_type": "code",
   "execution_count": 38,
   "id": "e4694881",
   "metadata": {},
   "outputs": [
    {
     "data": {
      "text/plain": [
       "array([20])"
      ]
     },
     "execution_count": 38,
     "metadata": {},
     "output_type": "execute_result"
    }
   ],
   "source": [
    "arr3[arr4]"
   ]
  },
  {
   "cell_type": "code",
   "execution_count": 39,
   "id": "3f0eb078",
   "metadata": {},
   "outputs": [],
   "source": [
    "# numpy에서 사용하는 연산 함수"
   ]
  },
  {
   "cell_type": "code",
   "execution_count": 40,
   "id": "f50577a5",
   "metadata": {},
   "outputs": [
    {
     "data": {
      "text/plain": [
       "array([[4, 1, 1, 6, 9],\n",
       "       [7, 4, 8, 2, 2]])"
      ]
     },
     "execution_count": 40,
     "metadata": {},
     "output_type": "execute_result"
    }
   ],
   "source": [
    "# 1 ~ 9까지의 랜덤한 정수가 담긴 2,5 크기의 배열 생성\n",
    "arr = np.random.randint(1,10,size=(2,5))\n",
    "arr"
   ]
  },
  {
   "cell_type": "code",
   "execution_count": 41,
   "id": "ee551bcc",
   "metadata": {},
   "outputs": [
    {
     "name": "stdout",
     "output_type": "stream",
     "text": [
      "44\n",
      "[11  5  9  8 11]\n",
      "[21 23]\n"
     ]
    }
   ],
   "source": [
    "# 배열 안에 있는 값 더하기\n",
    "# np.sum(배열값)\n",
    "# axis = i : i+1차원 값들 전부 더하여 출력 -> 없으면 내부 전부합\n",
    "print(np.sum(arr))\n",
    "print(np.sum(arr, axis = 0))\n",
    "print(np.sum(arr, axis = 1))"
   ]
  },
  {
   "cell_type": "code",
   "execution_count": 42,
   "id": "ab183488",
   "metadata": {},
   "outputs": [
    {
     "name": "stdout",
     "output_type": "stream",
     "text": [
      "4.4\n",
      "[5.5 2.5 4.5 4.  5.5]\n",
      "[4.2 4.6]\n"
     ]
    }
   ],
   "source": [
    "# 배열 안에 있는 값의 평균\n",
    "# np.mean(배열값)\n",
    "print(np.mean(arr))\n",
    "print(np.mean(arr, axis = 0))\n",
    "print(np.mean(arr, axis = 1))"
   ]
  },
  {
   "attachments": {
    "KakaoTalk_20211228_165626994.png": {
     "image/png": "[encoded data removed]"
    }
   },
   "cell_type": "markdown",
   "id": "51943267",
   "metadata": {},
   "source": [
    "![KakaoTalk_20211228_165626994.png](attachment:KakaoTalk_20211228_165626994.png)"
   ]
  },
  {
   "attachments": {
    "KakaoTalk_20211228_165635363.png": {
     "image/png": "[encoded data removed]"
    }
   },
   "cell_type": "markdown",
   "id": "59a17d6a",
   "metadata": {},
   "source": [
    "![KakaoTalk_20211228_165635363.png](attachment:KakaoTalk_20211228_165635363.png)"
   ]
  },
  {
   "cell_type": "code",
   "execution_count": 43,
   "id": "8392b692",
   "metadata": {
    "scrolled": true
   },
   "outputs": [
    {
     "name": "stdout",
     "output_type": "stream",
     "text": [
      "3.141592653589793\n",
      "1.2246467991473532e-16\n"
     ]
    }
   ],
   "source": [
    "print(np.pi)\n",
    "print(np.sin(np.pi))"
   ]
  },
  {
   "cell_type": "markdown",
   "id": "b1477537",
   "metadata": {},
   "source": [
    "### 영화 평점 데이터 분석하기"
   ]
  },
  {
   "cell_type": "code",
   "execution_count": 44,
   "id": "6830f08a",
   "metadata": {
    "scrolled": true
   },
   "outputs": [
    {
     "data": {
      "text/plain": [
       "array([[        1,      1193,         5, 978300760],\n",
       "       [        1,       661,         3, 978302109],\n",
       "       [        1,       914,         3, 978301968],\n",
       "       ...,\n",
       "       [     6040,       562,         5, 956704746],\n",
       "       [     6040,      1096,         4, 956715648],\n",
       "       [     6040,      1097,         4, 956715569]])"
      ]
     },
     "execution_count": 44,
     "metadata": {},
     "output_type": "execute_result"
    }
   ],
   "source": [
    "# 데이터 타입 변경\n",
    "# dtype\n",
    "data = np.loadtxt('ratings.txt',delimiter = \"::\", dtype = 'int')\n",
    "data"
   ]
  },
  {
   "cell_type": "code",
   "execution_count": 45,
   "id": "2c615cb2",
   "metadata": {},
   "outputs": [
    {
     "data": {
      "text/plain": [
       "3.581564453029317"
      ]
     },
     "execution_count": 45,
     "metadata": {},
     "output_type": "execute_result"
    }
   ],
   "source": [
    "# 전체 평점 평균 구하기\n",
    "np.mean(data[:,2])"
   ]
  },
  {
   "cell_type": "code",
   "execution_count": 61,
   "id": "1c10e89e",
   "metadata": {},
   "outputs": [
    {
     "name": "stdout",
     "output_type": "stream",
     "text": [
      "[   1    1    1 ... 6040 6040 6040]\n",
      "[ True  True  True ... False False False]\n",
      "[5 3 3 4 5 3 5 5 4 4 5 4 4 4 5 4 3 4 5 4 3 3 5 5 3 5 4 4 4 3 4 4 4 4 4 4 5\n",
      " 5 4 5 5 5 4 4 4 5 5 4 5 4 4 4 4]\n",
      "4.188679245283019\n"
     ]
    },
    {
     "data": {
      "text/plain": [
       "[]"
      ]
     },
     "execution_count": 61,
     "metadata": {},
     "output_type": "execute_result"
    }
   ],
   "source": [
    "# 각 사용자별 평점 평균 구하기\n",
    "# 리스트에 [사용자, 사용자의 평점평균] 저장\n",
    "# 1번 사용자의 평점 평균 구하기\n",
    "user_list = []\n",
    "\n",
    "print(data[:,0]) # 전체 정보에서  id 값만 출력\n",
    "print(data[:,0] == 1)\n",
    "user = data[data[:,0]==1] # 전체 정보에서 id가 1인값만 출력\n",
    "print(user[:,2])\n",
    "print(np.mean(user[:,2])) # 1번 사용자에 대한 평점 평균\n",
    "# user_list.append([1, np.mean(user[:,2])])\n",
    "user_list"
   ]
  },
  {
   "cell_type": "code",
   "execution_count": 47,
   "id": "f4a693c7",
   "metadata": {
    "scrolled": true
   },
   "outputs": [
    {
     "data": {
      "text/plain": [
       "[[1, 4.188679245283019],\n",
       " [2, 3.7131782945736433],\n",
       " [3, 3.9019607843137254],\n",
       " [4, 4.190476190476191],\n",
       " [5, 3.1464646464646466],\n",
       " [6, 3.9014084507042255],\n",
       " [7, 4.32258064516129],\n",
       " [8, 3.884892086330935],\n",
       " [9, 3.7358490566037736],\n",
       " [10, 4.114713216957606],\n",
       " [11, 3.2773722627737225],\n",
       " [12, 3.8260869565217392],\n",
       " [13, 3.388888888888889],\n",
       " [14, 3.32],\n",
       " [15, 3.3233830845771144],\n",
       " [16, 3.0285714285714285],\n",
       " [17, 4.075829383886256],\n",
       " [18, 3.6491803278688524],\n",
       " [19, 3.5725490196078433],\n",
       " [20, 4.083333333333333],\n",
       " [21, 2.909090909090909],\n",
       " [22, 3.0673400673400675],\n",
       " [23, 3.3157894736842106],\n",
       " [24, 3.948529411764706],\n",
       " [25, 3.7411764705882353],\n",
       " [26, 2.96],\n",
       " [27, 4.171428571428572],\n",
       " [28, 3.7570093457943927],\n",
       " [29, 3.5833333333333335],\n",
       " [30, 3.488372093023256],\n",
       " [31, 3.73109243697479],\n",
       " [32, 3.625],\n",
       " [33, 3.498721227621483],\n",
       " [34, 3.8658536585365852],\n",
       " [35, 3.54040404040404],\n",
       " [36, 4.199430199430199],\n",
       " [37, 3.69811320754717],\n",
       " [38, 3.58],\n",
       " [39, 3.564516129032258],\n",
       " [40, 3.4479166666666665],\n",
       " [41, 3.48],\n",
       " [42, 3.74025974025974],\n",
       " [43, 4.125],\n",
       " [44, 3.6321243523316062],\n",
       " [45, 2.946127946127946],\n",
       " [46, 4.219512195121951],\n",
       " [47, 3.909090909090909],\n",
       " [48, 3.068561872909699],\n",
       " [49, 3.712962962962963],\n",
       " [50, 3.0697674418604652],\n",
       " [51, 3.825],\n",
       " [52, 3.5569620253164556],\n",
       " [53, 4.2368421052631575],\n",
       " [54, 4.025],\n",
       " [55, 4.12],\n",
       " [56, 3.970149253731343],\n",
       " [57, 2.90625],\n",
       " [58, 3.9725400457665905],\n",
       " [59, 3.4741784037558685],\n",
       " [60, 3.414285714285714],\n",
       " [61, 2.7777777777777777],\n",
       " [62, 3.566265060240964],\n",
       " [63, 3.4285714285714284],\n",
       " [64, 4.148148148148148],\n",
       " [65, 4.347107438016529],\n",
       " [66, 3.8461538461538463],\n",
       " [67, 4.296875],\n",
       " [68, 3.75],\n",
       " [69, 4.153846153846154],\n",
       " [70, 3.7037037037037037],\n",
       " [71, 3.7586206896551726],\n",
       " [72, 3.697674418604651],\n",
       " [73, 3.364705882352941],\n",
       " [74, 4.046511627906977],\n",
       " [75, 4.005714285714285],\n",
       " [76, 4.172413793103448],\n",
       " [77, 2.948717948717949],\n",
       " [78, 3.657142857142857],\n",
       " [79, 3.6451612903225805],\n",
       " [80, 3.8958333333333335],\n",
       " [81, 4.4186046511627906],\n",
       " [82, 4.016949152542373],\n",
       " [83, 3.5757575757575757],\n",
       " [84, 3.838709677419355],\n",
       " [85, 3.1025641025641026],\n",
       " [86, 4.3125],\n",
       " [87, 2.8135593220338984],\n",
       " [88, 4.147058823529412],\n",
       " [89, 3.238095238095238],\n",
       " [90, 3.511111111111111],\n",
       " [91, 4.704545454545454],\n",
       " [92, 2.7581395348837208],\n",
       " [93, 2.9727272727272727],\n",
       " [94, 3.857142857142857],\n",
       " [95, 3.595959595959596],\n",
       " [96, 3.6049382716049383],\n",
       " [97, 4.474025974025974],\n",
       " [98, 3.8],\n",
       " [99, 3.2149532710280373],\n",
       " [100, 3.026315789473684],\n",
       " [101, 4.679245283018868],\n",
       " [102, 3.128787878787879],\n",
       " [103, 4.052173913043478],\n",
       " [104, 3.347826086956522],\n",
       " [105, 4.295081967213115],\n",
       " [106, 4.0212765957446805],\n",
       " [107, 3.743801652892562],\n",
       " [108, 3.135135135135135],\n",
       " [109, 4.0],\n",
       " [110, 3.25],\n",
       " [111, 3.7282608695652173],\n",
       " [112, 4.183333333333334],\n",
       " [113, 3.5],\n",
       " [114, 3.693877551020408],\n",
       " [115, 3.8421052631578947],\n",
       " [116, 3.802325581395349],\n",
       " [117, 3.299009900990099],\n",
       " [118, 3.767857142857143],\n",
       " [119, 3.5428571428571427],\n",
       " [120, 3.619047619047619],\n",
       " [121, 4.416666666666667],\n",
       " [122, 2.9649122807017543],\n",
       " [123, 3.401315789473684],\n",
       " [124, 4.173913043478261],\n",
       " [125, 4.098591549295775],\n",
       " [126, 4.0],\n",
       " [127, 3.8448275862068964],\n",
       " [128, 4.363636363636363],\n",
       " [129, 4.025316455696203],\n",
       " [130, 4.311111111111111],\n",
       " [131, 3.3966101694915256],\n",
       " [132, 3.966292134831461],\n",
       " [133, 3.7705882352941176],\n",
       " [134, 2.7158469945355193],\n",
       " [135, 3.657142857142857],\n",
       " [136, 3.074074074074074],\n",
       " [137, 3.611940298507463],\n",
       " [138, 4.492307692307692],\n",
       " [139, 3.8816326530612244],\n",
       " [140, 3.8181818181818183],\n",
       " [141, 3.6956521739130435],\n",
       " [142, 3.3404255319148937],\n",
       " [143, 3.5441176470588234],\n",
       " [144, 3.46875],\n",
       " [145, 3.0],\n",
       " [146, 3.7699530516431925],\n",
       " [147, 3.5026737967914436],\n",
       " [148, 3.733974358974359],\n",
       " [149, 3.9408783783783785],\n",
       " [150, 4.021551724137931],\n",
       " [151, 3.653927813163482],\n",
       " [152, 4.125],\n",
       " [153, 4.076923076923077],\n",
       " [154, 3.090909090909091],\n",
       " [155, 2.96875],\n",
       " [156, 4.236486486486487],\n",
       " [157, 3.718969555035129],\n",
       " [158, 4.0],\n",
       " [159, 3.7777777777777777],\n",
       " [160, 3.5],\n",
       " [161, 4.4713804713804715],\n",
       " [162, 4.121495327102804],\n",
       " [163, 2.1828793774319064],\n",
       " [164, 4.384615384615385],\n",
       " [165, 3.981818181818182],\n",
       " [166, 3.6878048780487807],\n",
       " [167, 2.9310344827586206],\n",
       " [168, 3.8461538461538463],\n",
       " [169, 3.5670289855072466],\n",
       " [170, 3.9885057471264367],\n",
       " [171, 4.0],\n",
       " [172, 3.608695652173913],\n",
       " [173, 3.9679144385026737],\n",
       " [174, 3.649484536082474],\n",
       " [175, 3.9810725552050474],\n",
       " [176, 3.6153846153846154],\n",
       " [177, 4.113636363636363],\n",
       " [178, 3.8434782608695652],\n",
       " [179, 2.6545454545454548],\n",
       " [180, 3.694915254237288],\n",
       " [181, 3.604651162790698],\n",
       " [182, 3.8313253012048194],\n",
       " [183, 4.099009900990099],\n",
       " [184, 4.083333333333333],\n",
       " [185, 3.588235294117647],\n",
       " [186, 4.254098360655738],\n",
       " [187, 4.083932853717027],\n",
       " [188, 3.1690140845070425],\n",
       " [189, 4.0],\n",
       " [190, 3.6993464052287583],\n",
       " [191, 3.3333333333333335],\n",
       " [192, 3.0914285714285716],\n",
       " [193, 3.677685950413223],\n",
       " [194, 3.983050847457627],\n",
       " [195, 3.889294403892944],\n",
       " [196, 4.0625],\n",
       " [197, 3.909090909090909],\n",
       " [198, 3.7493403693931397],\n",
       " [199, 3.2761194029850746],\n",
       " [200, 3.423076923076923],\n",
       " [201, 3.954022988505747],\n",
       " [202, 3.2492537313432837],\n",
       " [203, 2.2913385826771653],\n",
       " [204, 3.5560538116591927],\n",
       " [205, 4.0588235294117645],\n",
       " [206, 3.066666666666667],\n",
       " [207, 3.5217391304347827],\n",
       " [208, 3.652173913043478],\n",
       " [209, 3.16],\n",
       " [210, 4.027272727272727],\n",
       " [211, 3.857142857142857],\n",
       " [212, 3.8545454545454545],\n",
       " [213, 4.2272727272727275],\n",
       " [214, 3.1626506024096384],\n",
       " [215, 4.5588235294117645],\n",
       " [216, 3.2317380352644838],\n",
       " [217, 3.7],\n",
       " [218, 3.0930232558139537],\n",
       " [219, 3.3333333333333335],\n",
       " [220, 4.215686274509804],\n",
       " [221, 3.2413793103448274],\n",
       " [222, 4.0875],\n",
       " [223, 3.44140625],\n",
       " [224, 3.4019607843137254],\n",
       " [225, 3.4330708661417324],\n",
       " [226, 3.5714285714285716],\n",
       " [227, 3.2857142857142856],\n",
       " [228, 4.0],\n",
       " [229, 3.4292452830188678],\n",
       " [230, 4.094972067039106],\n",
       " [231, 4.22680412371134],\n",
       " [232, 3.566666666666667],\n",
       " [233, 4.584905660377358],\n",
       " [234, 4.310344827586207],\n",
       " [235, 4.086363636363636],\n",
       " [236, 3.693548387096774],\n",
       " [237, 3.4036144578313254],\n",
       " [238, 3.7868217054263567],\n",
       " [239, 4.140845070422535],\n",
       " [240, 3.300699300699301],\n",
       " [241, 3.9649122807017543],\n",
       " [242, 3.2051282051282053],\n",
       " [243, 3.606060606060606],\n",
       " [244, 4.105882352941176],\n",
       " [245, 2.6714659685863875],\n",
       " [246, 4.0],\n",
       " [247, 3.935483870967742],\n",
       " [248, 4.205882352941177],\n",
       " [249, 3.9454545454545453],\n",
       " [250, 3.75],\n",
       " [251, 3.5753424657534247],\n",
       " [252, 4.016666666666667],\n",
       " [253, 3.9245283018867925],\n",
       " [254, 3.782608695652174],\n",
       " [255, 4.016393442622951],\n",
       " [256, 3.8526315789473684],\n",
       " [257, 4.452830188679245],\n",
       " [258, 3.717241379310345],\n",
       " [259, 4.0359712230215825],\n",
       " [260, 3.311688311688312],\n",
       " [261, 3.5762711864406778],\n",
       " [262, 3.330188679245283],\n",
       " [263, 3.6630434782608696],\n",
       " [264, 2.785416666666667],\n",
       " [265, 4.1938775510204085],\n",
       " [266, 4.52],\n",
       " [267, 3.3893129770992365],\n",
       " [268, 3.3946360153256707],\n",
       " [269, 3.8],\n",
       " [270, 4.198412698412699],\n",
       " [271, 3.9583333333333335],\n",
       " [272, 3.6535269709543567],\n",
       " [273, 3.727272727272727],\n",
       " [274, 4.243243243243243],\n",
       " [275, 4.247191011235955],\n",
       " [276, 3.5217391304347827],\n",
       " [277, 3.727272727272727],\n",
       " [278, 3.9646464646464645],\n",
       " [279, 2.872340425531915],\n",
       " [280, 3.94],\n",
       " [281, 3.891891891891892],\n",
       " [282, 3.5172413793103448],\n",
       " [283, 4.962962962962963],\n",
       " [284, 3.021231422505308],\n",
       " [285, 4.16546762589928],\n",
       " [286, 3.883720930232558],\n",
       " [287, 3.70873786407767],\n",
       " [288, 4.589285714285714],\n",
       " [289, 3.9054054054054053],\n",
       " [290, 3.303030303030303],\n",
       " [291, 4.137254901960785],\n",
       " [292, 3.7560975609756095],\n",
       " [293, 3.2460567823343847],\n",
       " [294, 3.489795918367347],\n",
       " [295, 3.764397905759162],\n",
       " [296, 3.597938144329897],\n",
       " [297, 4.0],\n",
       " [298, 3.925925925925926],\n",
       " [299, 4.163461538461538],\n",
       " [300, 4.180722891566265],\n",
       " [301, 3.8011204481792715],\n",
       " [302, 2.8692893401015227],\n",
       " [303, 3.861244019138756],\n",
       " [304, 3.5555555555555554],\n",
       " [305, 2.5605095541401273],\n",
       " [306, 3.937823834196891],\n",
       " [307, 4.593406593406593],\n",
       " [308, 3.385996409335727],\n",
       " [309, 4.040650406504065],\n",
       " [310, 3.4260089686098656],\n",
       " [311, 4.15],\n",
       " [312, 3.736842105263158],\n",
       " [313, 4.038461538461538],\n",
       " [314, 3.696245733788396],\n",
       " [315, 3.8636363636363638],\n",
       " [316, 4.116883116883117],\n",
       " [317, 3.8095238095238093],\n",
       " [318, 3.9523809523809526],\n",
       " [319, 3.263522884882108],\n",
       " [320, 4.238095238095238],\n",
       " [321, 3.2612612612612613],\n",
       " [322, 4.45],\n",
       " [323, 3.788135593220339],\n",
       " [324, 3.3289473684210527],\n",
       " [325, 4.046511627906977],\n",
       " [326, 3.3350923482849604],\n",
       " [327, 3.669491525423729],\n",
       " [328, 3.032258064516129],\n",
       " [329, 2.7264397905759163],\n",
       " [330, 4.0131578947368425],\n",
       " [331, 3.7654109589041096],\n",
       " [332, 4.2835820895522385],\n",
       " [333, 3.352422907488987],\n",
       " [334, 3.9508196721311477],\n",
       " [335, 2.5],\n",
       " [336, 4.308411214953271],\n",
       " [337, 3.525252525252525],\n",
       " [338, 3.665745856353591],\n",
       " [339, 4.024193548387097],\n",
       " [340, 3.5277777777777777],\n",
       " [341, 4.2],\n",
       " [342, 3.6910569105691056],\n",
       " [343, 4.047138047138047],\n",
       " [344, 2.9555555555555557],\n",
       " [345, 4.4],\n",
       " [346, 4.307420494699647],\n",
       " [347, 3.878787878787879],\n",
       " [348, 3.78],\n",
       " [349, 3.25],\n",
       " [350, 3.9375],\n",
       " [351, 3.7572815533980584],\n",
       " [352, 3.4793103448275864],\n",
       " [353, 3.9166666666666665],\n",
       " [354, 3.586206896551724],\n",
       " [355, 3.4463007159904535],\n",
       " [356, 4.380952380952381],\n",
       " [357, 3.293103448275862],\n",
       " [358, 3.8472222222222223],\n",
       " [359, 3.857142857142857],\n",
       " [360, 3.6417910447761193],\n",
       " [361, 3.5384615384615383],\n",
       " [362, 3.290909090909091],\n",
       " [363, 3.744186046511628],\n",
       " [364, 3.142857142857143],\n",
       " [365, 3.3404255319148937],\n",
       " [366, 4.06949806949807],\n",
       " [367, 4.25],\n",
       " [368, 3.78125],\n",
       " [369, 3.1954022988505746],\n",
       " [370, 3.75],\n",
       " [371, 3.5],\n",
       " [372, 4.553571428571429],\n",
       " [373, 3.5555555555555554],\n",
       " [374, 4.403846153846154],\n",
       " [375, 4.078431372549019],\n",
       " [376, 4.111111111111111],\n",
       " [377, 3.9044117647058822],\n",
       " [378, 3.5128205128205128],\n",
       " [379, 4.234375],\n",
       " [380, 3.7246376811594204],\n",
       " [381, 4.114285714285714],\n",
       " [382, 4.017857142857143],\n",
       " [383, 3.5714285714285716],\n",
       " [384, 3.590909090909091],\n",
       " [385, 3.9562043795620436],\n",
       " [386, 3.3230769230769233],\n",
       " [387, 3.676470588235294],\n",
       " [388, 3.8813559322033897],\n",
       " [389, 3.5616438356164384],\n",
       " [390, 3.6728971962616823],\n",
       " [391, 3.728395061728395],\n",
       " [392, 3.4743326488706368],\n",
       " [393, 3.581081081081081],\n",
       " [394, 3.3421052631578947],\n",
       " [395, 3.608695652173913],\n",
       " [396, 3.560693641618497],\n",
       " [397, 3.8823529411764706],\n",
       " [398, 3.8133333333333335],\n",
       " [399, 4.15625],\n",
       " [400, 3.875],\n",
       " [401, 3.871794871794872],\n",
       " [402, 3.591549295774648],\n",
       " [403, 3.8035714285714284],\n",
       " [404, 4.14],\n",
       " [405, 3.795918367346939],\n",
       " [406, 3.306122448979592],\n",
       " [407, 3.4375],\n",
       " [408, 4.352564102564102],\n",
       " [409, 3.9158249158249157],\n",
       " [410, 3.96875],\n",
       " [411, 3.280314960629921],\n",
       " [412, 4.401260504201681],\n",
       " [413, 4.404040404040404],\n",
       " [414, 3.0701754385964914],\n",
       " [415, 3.874538745387454],\n",
       " [416, 3.7580645161290325],\n",
       " [417, 4.045454545454546],\n",
       " [418, 3.549019607843137],\n",
       " [419, 3.962962962962963],\n",
       " [420, 4.359375],\n",
       " [421, 4.25],\n",
       " [422, 3.297872340425532],\n",
       " [423, 2.5],\n",
       " [424, 3.735725938009788],\n",
       " [425, 3.6613756613756614],\n",
       " [426, 3.7573221757322175],\n",
       " [427, 4.111111111111111],\n",
       " [428, 3.9],\n",
       " [429, 3.346820809248555],\n",
       " [430, 3.9682539682539684],\n",
       " [431, 3.630952380952381],\n",
       " [432, 2.9863013698630136],\n",
       " [433, 3.391304347826087],\n",
       " [434, 4.023255813953488],\n",
       " [435, 3.8333333333333335],\n",
       " [436, 3.8345864661654137],\n",
       " [437, 4.3076923076923075],\n",
       " [438, 3.528239202657807],\n",
       " [439, 3.902173913043478],\n",
       " [440, 3.586206896551724],\n",
       " [441, 3.9574468085106385],\n",
       " [442, 3.8486997635933804],\n",
       " [443, 3.823529411764706],\n",
       " [444, 4.0],\n",
       " [445, 3.3181818181818183],\n",
       " [446, 4.8431372549019605],\n",
       " [447, 4.837837837837838],\n",
       " [448, 3.4347826086956523],\n",
       " [449, 3.7222222222222223],\n",
       " [450, 4.196078431372549],\n",
       " [451, 4.511961722488039],\n",
       " [452, 4.431818181818182],\n",
       " [453, 3.66497461928934],\n",
       " [454, 3.218045112781955],\n",
       " [455, 4.2],\n",
       " [456, 3.394904458598726],\n",
       " [457, 3.7130801687763713],\n",
       " [458, 3.5348837209302326],\n",
       " [459, 3.6875],\n",
       " [460, 3.3617021276595747],\n",
       " [461, 3.224609375],\n",
       " [462, 3.536723163841808],\n",
       " [463, 3.0],\n",
       " [464, 3.6097560975609757],\n",
       " [465, 3.5405405405405403],\n",
       " [466, 4.14070351758794],\n",
       " [467, 3.2028985507246377],\n",
       " [468, 3.730769230769231],\n",
       " [469, 4.326530612244898],\n",
       " [470, 3.8088235294117645],\n",
       " [471, 3.6285714285714286],\n",
       " [472, 4.022222222222222],\n",
       " [473, 4.163265306122449],\n",
       " [474, 3.380503144654088],\n",
       " [475, 3.8299595141700404],\n",
       " [476, 3.8375870069605567],\n",
       " [477, 3.5829383886255926],\n",
       " [478, 3.869565217391304],\n",
       " [479, 3.827956989247312],\n",
       " [480, 3.411214953271028],\n",
       " [481, 3.696969696969697],\n",
       " [482, 3.2606060606060607],\n",
       " [483, 2.9310344827586206],\n",
       " [484, 3.735294117647059],\n",
       " [485, 4.044444444444444],\n",
       " [486, 4.051282051282051],\n",
       " [487, 3.34],\n",
       " [488, 3.56],\n",
       " [489, 3.3333333333333335],\n",
       " [490, 3.7662337662337664],\n",
       " [491, 3.68],\n",
       " [492, 3.9375],\n",
       " [493, 3.848101265822785],\n",
       " [494, 4.157068062827225],\n",
       " [495, 3.7954545454545454],\n",
       " [496, 4.294117647058823],\n",
       " [497, 3.5833333333333335],\n",
       " [498, 3.6511627906976742],\n",
       " [499, 3.9748743718592965],\n",
       " [500, 3.633663366336634],\n",
       " [501, 3.417910447761194],\n",
       " [502, 4.083333333333333],\n",
       " [503, 4.448275862068965],\n",
       " [504, 3.8055555555555554],\n",
       " [505, 4.217391304347826],\n",
       " [506, 3.422222222222222],\n",
       " [507, 3.9523809523809526],\n",
       " [508, 3.3221476510067114],\n",
       " [509, 3.3139695712309822],\n",
       " [510, 3.8282828282828283],\n",
       " [511, 3.740740740740741],\n",
       " [512, 3.8378378378378377],\n",
       " [513, 3.1474358974358974],\n",
       " [514, 4.2025316455696204],\n",
       " [515, 3.728395061728395],\n",
       " [516, 2.931972789115646],\n",
       " [517, 3.963855421686747],\n",
       " [518, 4.3478260869565215],\n",
       " [519, 3.3777777777777778],\n",
       " [520, 3.9363057324840764],\n",
       " [521, 4.2926829268292686],\n",
       " [522, 3.8448275862068964],\n",
       " [523, 4.06],\n",
       " [524, 3.608267716535433],\n",
       " [525, 4.025],\n",
       " [526, 3.896551724137931],\n",
       " [527, 4.08],\n",
       " [528, 3.3551724137931034],\n",
       " [529, 4.19672131147541],\n",
       " [530, 4.0],\n",
       " [531, 3.1591695501730106],\n",
       " [532, 3.86046511627907],\n",
       " [533, 3.3401015228426396],\n",
       " [534, 3.7475728155339807],\n",
       " [535, 3.5714285714285716],\n",
       " [536, 3.942857142857143],\n",
       " [537, 4.3061224489795915],\n",
       " [538, 4.458333333333333],\n",
       " [539, 3.9242424242424243],\n",
       " [540, 3.230769230769231],\n",
       " [541, 3.1894736842105265],\n",
       " [542, 3.764705882352941],\n",
       " [543, 4.078986587183309],\n",
       " [544, 3.7777777777777777],\n",
       " [545, 3.4827586206896552],\n",
       " [546, 3.231818181818182],\n",
       " [547, 3.858974358974359],\n",
       " [548, 3.093220338983051],\n",
       " [549, 3.7569444444444446],\n",
       " [550, 3.578076525336091],\n",
       " [551, 3.8201754385964914],\n",
       " [552, 3.7628865979381443],\n",
       " [553, 4.15625],\n",
       " [554, 3.511627906976744],\n",
       " [555, 3.8157894736842106],\n",
       " [556, 3.5],\n",
       " [557, 3.8793103448275863],\n",
       " [558, 3.6804123711340204],\n",
       " [559, 3.0],\n",
       " [560, 3.897810218978102],\n",
       " [561, 3.7222222222222223],\n",
       " [562, 3.7027027027027026],\n",
       " [563, 2.7023121387283235],\n",
       " [564, 4.0],\n",
       " [565, 3.44],\n",
       " [566, 2.6273408239700373],\n",
       " [567, 4.583333333333333],\n",
       " [568, 4.44],\n",
       " [569, 3.52],\n",
       " [570, 3.329113924050633],\n",
       " [571, 3.7054794520547945],\n",
       " [572, 3.05],\n",
       " [573, 3.9722222222222223],\n",
       " [574, 4.095238095238095],\n",
       " [575, 3.6564417177914113],\n",
       " [576, 3.6666666666666665],\n",
       " [577, 4.487341772151899],\n",
       " [578, 3.9642857142857144],\n",
       " [579, 3.8550724637681157],\n",
       " [580, 3.347826086956522],\n",
       " [581, 3.6666666666666665],\n",
       " [582, 4.282051282051282],\n",
       " [583, 4.040229885057471],\n",
       " [584, 4.2894736842105265],\n",
       " [585, 3.4662162162162162],\n",
       " [586, 4.485714285714286],\n",
       " [587, 3.0077922077922077],\n",
       " [588, 4.057395143487859],\n",
       " [589, 4.0],\n",
       " [590, 4.13855421686747],\n",
       " [591, 3.231404958677686],\n",
       " [592, 4.391304347826087],\n",
       " [593, 3.641509433962264],\n",
       " [594, 4.29559748427673],\n",
       " [595, 3.95],\n",
       " [596, 2.9523809523809526],\n",
       " [597, 4.473684210526316],\n",
       " [598, 3.3157894736842106],\n",
       " [599, 3.8518518518518516],\n",
       " [600, 3.652173913043478],\n",
       " [601, 3.1501340482573728],\n",
       " [602, 3.396103896103896],\n",
       " [603, 3.5238095238095237],\n",
       " [604, 3.0940766550522647],\n",
       " [605, 4.049180327868853],\n",
       " [606, 4.03030303030303],\n",
       " [607, 4.16],\n",
       " [608, 3.1882352941176473],\n",
       " [609, 4.346153846153846],\n",
       " [610, 3.484126984126984],\n",
       " [611, 3.9393939393939394],\n",
       " [612, 3.5],\n",
       " [613, 3.5849056603773586],\n",
       " [614, 3.8333333333333335],\n",
       " [615, 4.127659574468085],\n",
       " [616, 3.9545454545454546],\n",
       " [617, 4.086956521739131],\n",
       " [618, 3.0],\n",
       " [619, 3.909090909090909],\n",
       " [620, 3.3240223463687153],\n",
       " [621, 3.0416666666666665],\n",
       " [622, 3.912280701754386],\n",
       " [623, 4.226744186046512],\n",
       " [624, 3.6801075268817205],\n",
       " [625, 4.0],\n",
       " [626, 4.055555555555555],\n",
       " [627, 3.5625],\n",
       " [628, 3.9038461538461537],\n",
       " [629, 3.371308016877637],\n",
       " [630, 4.254237288135593],\n",
       " [631, 3.7948717948717947],\n",
       " [632, 3.7941176470588234],\n",
       " [633, 3.5813953488372094],\n",
       " [634, 4.014925373134329],\n",
       " [635, 4.3107344632768365],\n",
       " [636, 4.058139534883721],\n",
       " [637, 3.7559681697612732],\n",
       " [638, 4.175438596491228],\n",
       " [639, 3.705],\n",
       " [640, 4.333333333333333],\n",
       " [641, 4.008264462809917],\n",
       " [642, 4.111111111111111],\n",
       " [643, 2.7142857142857144],\n",
       " [644, 3.1203703703703702],\n",
       " [645, 4.4772727272727275],\n",
       " [646, 3.8031496062992125],\n",
       " [647, 3.103896103896104],\n",
       " [648, 3.7231638418079096],\n",
       " [649, 3.6619718309859155],\n",
       " [650, 3.8947368421052633],\n",
       " [651, 3.6129707112970713],\n",
       " [652, 2.8863636363636362],\n",
       " [653, 4.142857142857143],\n",
       " [654, 3.4324324324324325],\n",
       " [655, 2.733009708737864],\n",
       " [656, 3.8700564971751414],\n",
       " [657, 4.016949152542373],\n",
       " [658, 3.096774193548387],\n",
       " [659, 3.7],\n",
       " [660, 3.0170697012802274],\n",
       " [661, 4.647887323943662],\n",
       " [662, 3.141732283464567],\n",
       " [663, 3.580357142857143],\n",
       " [664, 4.025316455696203],\n",
       " [665, 3.5],\n",
       " [666, 3.8932038834951457],\n",
       " [667, 3.0935672514619883],\n",
       " [668, 3.5833333333333335],\n",
       " [669, 3.847255369928401],\n",
       " [670, 3.2444444444444445],\n",
       " [671, 4.2592592592592595],\n",
       " [672, 3.872340425531915],\n",
       " [673, 3.13151364764268],\n",
       " [674, 4.2784810126582276],\n",
       " [675, 3.3095238095238093],\n",
       " [676, 3.128205128205128],\n",
       " [677, 3.892682926829268],\n",
       " [678, 3.6776776776776776],\n",
       " [679, 3.926829268292683],\n",
       " [680, 3.5714285714285716],\n",
       " [681, 4.2368421052631575],\n",
       " [682, 4.733333333333333],\n",
       " [683, 3.586206896551724],\n",
       " [684, 3.8947368421052633],\n",
       " [685, 3.2357142857142858],\n",
       " [686, 3.7777777777777777],\n",
       " [687, 3.4873417721518987],\n",
       " [688, 3.75],\n",
       " [689, 3.3925925925925924],\n",
       " [690, 4.311111111111111],\n",
       " [691, 4.174757281553398],\n",
       " [692, 3.8240887480190175],\n",
       " [693, 3.8857142857142857],\n",
       " [694, 3.625],\n",
       " [695, 3.513089005235602],\n",
       " [696, 3.802992518703242],\n",
       " [697, 3.8],\n",
       " [698, 3.551851851851852],\n",
       " [699, 3.0534124629080117],\n",
       " [700, 3.875],\n",
       " [701, 3.5],\n",
       " [702, 3.3027139874739038],\n",
       " [703, 4.1],\n",
       " [704, 3.081081081081081],\n",
       " [705, 3.371212121212121],\n",
       " [706, 3.556291390728477],\n",
       " [707, 3.6153846153846154],\n",
       " [708, 3.85],\n",
       " [709, 2.8292682926829267],\n",
       " [710, 3.4271186440677965],\n",
       " [711, 4.0],\n",
       " [712, 3.475177304964539],\n",
       " [713, 3.446280991735537],\n",
       " [714, 4.1635071090047395],\n",
       " [715, 3.8877551020408165],\n",
       " [716, 4.198979591836735],\n",
       " [717, 3.1538461538461537],\n",
       " [718, 3.775147928994083],\n",
       " [719, 3.5],\n",
       " [720, 2.9098712446351933],\n",
       " [721, 3.551051051051051],\n",
       " [722, 3.909090909090909],\n",
       " [723, 3.8333333333333335],\n",
       " [724, 3.643312101910828],\n",
       " [725, 4.197530864197531],\n",
       " [726, 3.9315068493150687],\n",
       " [727, 3.6987951807228914],\n",
       " [728, 3.311377245508982],\n",
       " [729, 3.5273972602739727],\n",
       " [730, 3.7735849056603774],\n",
       " [731, 3.778816199376947],\n",
       " [732, 3.4285714285714284],\n",
       " [733, 4.05982905982906],\n",
       " [734, 3.727272727272727],\n",
       " [735, 3.590330788804071],\n",
       " [736, 3.9298245614035086],\n",
       " [737, 3.5668202764976957],\n",
       " [738, 3.303030303030303],\n",
       " [739, 4.354330708661418],\n",
       " [740, 4.243243243243243],\n",
       " [741, 3.324675324675325],\n",
       " [742, 3.9523809523809526],\n",
       " [743, 3.38255033557047],\n",
       " [744, 3.3703703703703702],\n",
       " [745, 2.64],\n",
       " [746, 2.634433962264151],\n",
       " [747, 3.59375],\n",
       " [748, 3.9753086419753085],\n",
       " [749, 3.3246187363834423],\n",
       " [750, 4.321428571428571],\n",
       " [751, 3.88],\n",
       " [752, 2.8291015625],\n",
       " [753, 3.7752293577981653],\n",
       " [754, 3.7770700636942673],\n",
       " [755, 4.111111111111111],\n",
       " [756, 3.9714285714285715],\n",
       " [757, 3.225806451612903],\n",
       " [758, 4.0],\n",
       " [759, 3.5876288659793816],\n",
       " [760, 4.265625],\n",
       " [761, 4.55],\n",
       " [762, 3.717391304347826],\n",
       " [763, 3.730769230769231],\n",
       " [764, 4.525179856115108],\n",
       " [765, 3.574626865671642],\n",
       " [766, 3.9361702127659575],\n",
       " [767, 4.023529411764706],\n",
       " [768, 4.4375],\n",
       " [769, 3.8208955223880596],\n",
       " [770, 2.935441370223979],\n",
       " [771, 3.769230769230769],\n",
       " [772, 3.479591836734694],\n",
       " [773, 3.5918367346938775],\n",
       " [774, 3.2142857142857144],\n",
       " [775, 4.0],\n",
       " [776, 3.766990291262136],\n",
       " [777, 2.5796812749003983],\n",
       " [778, 3.785276073619632],\n",
       " [779, 3.3333333333333335],\n",
       " [780, 3.45703125],\n",
       " [781, 3.1709401709401708],\n",
       " [782, 3.4347826086956523],\n",
       " [783, 3.5210084033613445],\n",
       " [784, 4.066666666666666],\n",
       " [785, 3.2358490566037736],\n",
       " [786, 4.063492063492063],\n",
       " [787, 3.58974358974359],\n",
       " [788, 3.5255102040816326],\n",
       " [789, 2.9043478260869566],\n",
       " [790, 4.3478260869565215],\n",
       " [791, 3.966463414634146],\n",
       " [792, 3.4597701149425286],\n",
       " [793, 3.486666666666667],\n",
       " [794, 3.953488372093023],\n",
       " [795, 3.442953020134228],\n",
       " [796, 2.9717391304347824],\n",
       " [797, 4.036144578313253],\n",
       " [798, 3.149847094801223],\n",
       " [799, 3.6],\n",
       " [800, 3.4849624060150375],\n",
       " [801, 3.6596491228070174],\n",
       " [802, 3.938735177865613],\n",
       " [803, 3.7115384615384617],\n",
       " [804, 3.272727272727273],\n",
       " [805, 3.835616438356164],\n",
       " [806, 4.166666666666667],\n",
       " [807, 3.9696969696969697],\n",
       " [808, 3.1236363636363635],\n",
       " [809, 4.031914893617022],\n",
       " [810, 3.8174603174603177],\n",
       " [811, 4.184615384615385],\n",
       " [812, 3.739130434782609],\n",
       " [813, 3.343283582089552],\n",
       " [814, 4.055555555555555],\n",
       " [815, 4.068965517241379],\n",
       " [816, 3.6974358974358976],\n",
       " [817, 4.010050251256281],\n",
       " [818, 3.7251461988304095],\n",
       " [819, 3.3225806451612905],\n",
       " [820, 3.4134615384615383],\n",
       " [821, 2.9523809523809526],\n",
       " [822, 3.7226027397260273],\n",
       " [823, 3.8677685950413223],\n",
       " [824, 3.646103896103896],\n",
       " [825, 3.619047619047619],\n",
       " [826, 3.2857142857142856],\n",
       " [827, 3.9545454545454546],\n",
       " [828, 3.4434782608695653],\n",
       " [829, 4.231884057971015],\n",
       " [830, 3.6149425287356323],\n",
       " [831, 4.105263157894737],\n",
       " [832, 3.558139534883721],\n",
       " [833, 4.0476190476190474],\n",
       " [834, 4.16],\n",
       " [835, 2.75],\n",
       " [836, 2.4],\n",
       " [837, 3.260869565217391],\n",
       " [838, 4.090909090909091],\n",
       " [839, 3.988372093023256],\n",
       " [840, 4.219123505976095],\n",
       " [841, 3.576923076923077],\n",
       " [842, 3.8378378378378377],\n",
       " [843, 3.9444444444444446],\n",
       " [844, 3.4523809523809526],\n",
       " [845, 3.980769230769231],\n",
       " [846, 3.91699604743083],\n",
       " [847, 3.6129032258064515],\n",
       " [848, 4.178571428571429],\n",
       " [849, 3.264957264957265],\n",
       " [850, 3.5613718411552346],\n",
       " [851, 3.5921052631578947],\n",
       " [852, 4.117647058823529],\n",
       " [853, 3.890909090909091],\n",
       " [854, 3.027667984189723],\n",
       " [855, 3.4126984126984126],\n",
       " [856, 3.490566037735849],\n",
       " [857, 4.171428571428572],\n",
       " [858, 4.189473684210526],\n",
       " [859, 3.450980392156863],\n",
       " [860, 3.1666666666666665],\n",
       " [861, 3.9375],\n",
       " [862, 3.6724137931034484],\n",
       " [863, 4.225806451612903],\n",
       " [864, 4.050724637681159],\n",
       " [865, 3.8095238095238093],\n",
       " [866, 3.3333333333333335],\n",
       " [867, 3.659090909090909],\n",
       " [868, 3.6],\n",
       " [869, 3.5154394299287413],\n",
       " [870, 3.611111111111111],\n",
       " [871, 3.9069767441860463],\n",
       " [872, 3.635514018691589],\n",
       " [873, 3.8430232558139537],\n",
       " [874, 3.7857142857142856],\n",
       " [875, 4.083333333333333],\n",
       " [876, 3.828828828828829],\n",
       " [877, 3.308056872037915],\n",
       " [878, 4.142857142857143],\n",
       " [879, 4.025],\n",
       " [880, 3.4956521739130433],\n",
       " [881, 2.9354485776805253],\n",
       " [882, 4.0886075949367084],\n",
       " [883, 3.4166666666666665],\n",
       " [884, 4.01010101010101],\n",
       " [885, 4.140625],\n",
       " [886, 3.6285714285714286],\n",
       " [887, 3.5104166666666665],\n",
       " [888, 3.7777777777777777],\n",
       " [889, 2.8405797101449277],\n",
       " [890, 3.969298245614035],\n",
       " [891, 3.7443946188340806],\n",
       " [892, 3.911764705882353],\n",
       " [893, 3.2],\n",
       " [894, 4.442857142857143],\n",
       " [895, 3.953125],\n",
       " [896, 3.984375],\n",
       " [897, 3.5566502463054186],\n",
       " [898, 4.083333333333333],\n",
       " [899, 3.523219814241486],\n",
       " [900, 3.576923076923077],\n",
       " [901, 3.606060606060606],\n",
       " [902, 4.28],\n",
       " [903, 3.4594594594594597],\n",
       " [904, 3.3008130081300813],\n",
       " [905, 3.7886178861788617],\n",
       " [906, 3.5238095238095237],\n",
       " [907, 3.9523809523809526],\n",
       " [908, 3.3076923076923075],\n",
       " [909, 3.9014084507042255],\n",
       " [910, 3.6012269938650308],\n",
       " [911, 3.8685714285714288],\n",
       " [912, 3.7209302325581395],\n",
       " [913, 3.2888888888888888],\n",
       " [914, 4.278688524590164],\n",
       " [915, 2.831578947368421],\n",
       " [916, 3.9454545454545453],\n",
       " [917, 4.068965517241379],\n",
       " [918, 2.9583333333333335],\n",
       " [919, 3.9355828220858897],\n",
       " [920, 3.4615384615384617],\n",
       " [921, 3.6962025316455698],\n",
       " [922, 3.5830903790087465],\n",
       " [923, 3.608695652173913],\n",
       " [924, 3.9899497487437188],\n",
       " [925, 3.1323529411764706],\n",
       " [926, 4.247619047619048],\n",
       " [927, 3.230366492146597],\n",
       " [928, 4.3254716981132075],\n",
       " [929, 3.6816901408450704],\n",
       " [930, 3.0510204081632653],\n",
       " [931, 4.031847133757962],\n",
       " [932, 4.45],\n",
       " [933, 3.7096774193548385],\n",
       " [934, 2.9859437751004014],\n",
       " [935, 3.4896907216494846],\n",
       " [936, 3.5113636363636362],\n",
       " [937, 3.7327586206896552],\n",
       " [938, 3.870967741935484],\n",
       " [939, 3.757575757575758],\n",
       " [940, 3.1923076923076925],\n",
       " [941, 2.2857142857142856],\n",
       " [942, 4.04],\n",
       " [943, 4.296296296296297],\n",
       " [944, 3.8444444444444446],\n",
       " [945, 3.6196319018404908],\n",
       " [946, 4.303030303030303],\n",
       " [947, 3.0],\n",
       " [948, 3.7408123791102517],\n",
       " [949, 3.9295392953929538],\n",
       " [950, 2.963636363636364],\n",
       " [951, 4.523809523809524],\n",
       " [952, 3.9936305732484074],\n",
       " [953, 4.6878306878306875],\n",
       " [954, 3.7777777777777777],\n",
       " [955, 3.5798816568047336],\n",
       " [956, 3.990740740740741],\n",
       " [957, 4.271341463414634],\n",
       " [958, 3.9050632911392404],\n",
       " [959, 3.7395833333333335],\n",
       " [960, 3.9375],\n",
       " [961, 3.74],\n",
       " [962, 4.03921568627451],\n",
       " [963, 3.4339622641509435],\n",
       " [964, 3.717948717948718],\n",
       " [965, 4.116883116883117],\n",
       " [966, 3.5636363636363635],\n",
       " [967, 3.5384615384615383],\n",
       " [968, 4.131147540983607],\n",
       " [969, 4.115384615384615],\n",
       " [970, 3.1493624772313296],\n",
       " [971, 3.3318385650224216],\n",
       " [972, 3.3714285714285714],\n",
       " [973, 3.3963133640552994],\n",
       " [974, 3.7333333333333334],\n",
       " [975, 3.25990099009901],\n",
       " [976, 3.3636363636363638],\n",
       " [977, 3.7625],\n",
       " [978, 3.8863636363636362],\n",
       " [979, 4.04054054054054],\n",
       " [980, 3.2222222222222223],\n",
       " [981, 3.3303964757709252],\n",
       " [982, 4.176470588235294],\n",
       " [983, 4.115384615384615],\n",
       " [984, 3.5417867435158503],\n",
       " [985, 4.212328767123288],\n",
       " [986, 3.772727272727273],\n",
       " [987, 4.017045454545454],\n",
       " [988, 3.8493150684931505],\n",
       " [989, 4.681818181818182],\n",
       " [990, 3.549019607843137],\n",
       " [991, 3.75],\n",
       " [992, 3.4193548387096775],\n",
       " [993, 3.3448275862068964],\n",
       " [994, 4.153846153846154],\n",
       " [995, 3.8979591836734695],\n",
       " [996, 3.935810810810811],\n",
       " [997, 3.933333333333333],\n",
       " [998, 4.118518518518519],\n",
       " [999, 3.186893203883495],\n",
       " [1000, 4.130952380952381],\n",
       " ...]"
      ]
     },
     "execution_count": 47,
     "metadata": {},
     "output_type": "execute_result"
    }
   ],
   "source": [
    "# 전체 사용자 번호, 평균으로 저장\n",
    "# i = 1\n",
    "# while True :\n",
    "#     user = data[data[:,0]==i]\n",
    "#     user_list.append([i,np.mean(user[:,2])])\n",
    "#     i+=1\n",
    "#     if i == 6041 :\n",
    "#         break\n",
    "# print(user_list)\n",
    "\n",
    "for i in range(1,6041) :\n",
    "    user = data[data[:,0]==i]\n",
    "    user_list.append([i,np.mean(user[:,2])])\n",
    "\n",
    "user_list"
   ]
  },
  {
   "cell_type": "code",
   "execution_count": 60,
   "id": "83d0be67",
   "metadata": {},
   "outputs": [
    {
     "name": "stdout",
     "output_type": "stream",
     "text": [
      "[1, 4, 7, 10, 17, 20, 27, 36, 43, 46, 53, 54, 55, 64, 65, 67, 69, 74, 75, 76, 81, 82, 86, 88, 91, 97, 101, 103, 105, 106, 109, 112, 121, 124, 125, 126, 128, 129, 130, 138, 150, 152, 153, 156, 158, 161, 162, 164, 171, 177, 183, 184, 186, 187, 189, 196, 205, 210, 213, 215, 220, 222, 228, 230, 231, 233, 234, 235, 239, 244, 246, 248, 252, 255, 257, 259, 265, 266, 270, 274, 275, 283, 285, 288, 291, 297, 299, 300, 307, 309, 311, 313, 316, 320, 322, 325, 330, 332, 336, 339, 341, 343, 345, 346, 356, 366, 367, 372, 374, 375, 376, 379, 381, 382, 399, 404, 408, 412, 413, 417, 420, 421, 427, 434, 437, 444, 446, 447, 450, 451, 452, 455, 466, 469, 472, 473, 485, 486, 494, 496, 502, 503, 505, 514, 518, 521, 523, 525, 527, 529, 530, 537, 538, 543, 553, 564, 567, 568, 574, 577, 582, 583, 584, 586, 588, 589, 590, 592, 594, 597, 605, 606, 607, 609, 615, 617, 623, 625, 626, 630, 634, 635, 636, 638, 640, 641, 642, 645, 653, 657, 661, 664, 671, 674, 681, 682, 690, 691, 703, 711, 714, 716, 725, 733, 739, 740, 750, 755, 758, 760, 761, 764, 767, 768, 775, 784, 786, 790, 797, 806, 809, 811, 814, 815, 817, 829, 831, 833, 834, 838, 840, 848, 852, 857, 858, 863, 864, 875, 878, 879, 882, 884, 885, 894, 898, 902, 914, 917, 926, 928, 931, 932, 942, 943, 946, 951, 953, 957, 962, 965, 968, 969, 979, 982, 983, 985, 987, 989, 994, 998, 1000, 1002, 1003, 1005, 1007, 1018, 1021, 1023, 1026, 1031, 1036, 1040, 1041, 1048, 1052, 1062, 1063, 1071, 1072, 1073, 1075, 1077, 1081, 1082, 1089, 1092, 1095, 1098, 1108, 1110, 1111, 1129, 1131, 1132, 1134, 1143, 1157, 1170, 1171, 1175, 1176, 1180, 1186, 1188, 1190, 1191, 1192, 1197, 1208, 1213, 1215, 1217, 1224, 1225, 1229, 1232, 1234, 1241, 1245, 1250, 1252, 1254, 1256, 1258, 1268, 1269, 1271, 1275, 1276, 1278, 1282, 1289, 1290, 1302, 1305, 1306, 1307, 1315, 1320, 1322, 1324, 1330, 1336, 1338, 1343, 1349, 1351, 1355, 1361, 1363, 1364, 1368, 1371, 1378, 1382, 1388, 1393, 1400, 1401, 1402, 1407, 1409, 1410, 1423, 1428, 1430, 1437, 1443, 1446, 1452, 1456, 1459, 1469, 1477, 1479, 1481, 1488, 1490, 1507, 1511, 1513, 1518, 1520, 1526, 1528, 1532, 1536, 1539, 1541, 1555, 1558, 1561, 1568, 1569, 1577, 1578, 1586, 1588, 1590, 1591, 1595, 1602, 1604, 1618, 1619, 1623, 1638, 1643, 1645, 1654, 1663, 1668, 1670, 1673, 1681, 1682, 1684, 1692, 1697, 1699, 1702, 1703, 1704, 1707, 1718, 1720, 1722, 1724, 1727, 1728, 1732, 1734, 1740, 1744, 1746, 1751, 1764, 1771, 1786, 1789, 1795, 1797, 1802, 1805, 1806, 1816, 1821, 1823, 1830, 1834, 1835, 1836, 1842, 1846, 1847, 1853, 1856, 1857, 1862, 1863, 1866, 1881, 1885, 1892, 1894, 1895, 1896, 1901, 1903, 1905, 1913, 1926, 1940, 1949, 1959, 1963, 1966, 1971, 1972, 1983, 1986, 1991, 1994, 1997, 2002, 2003, 2009, 2014, 2027, 2034, 2044, 2045, 2048, 2049, 2055, 2056, 2061, 2062, 2064, 2065, 2066, 2070, 2072, 2080, 2082, 2083, 2091, 2094, 2096, 2107, 2108, 2117, 2118, 2123, 2124, 2137, 2139, 2141, 2145, 2155, 2159, 2163, 2165, 2170, 2171, 2175, 2176, 2178, 2184, 2185, 2193, 2197, 2201, 2203, 2207, 2214, 2220, 2224, 2232, 2239, 2240, 2241, 2243, 2253, 2256, 2259, 2266, 2268, 2271, 2276, 2280, 2281, 2282, 2287, 2289, 2291, 2293, 2294, 2295, 2297, 2303, 2307, 2308, 2311, 2313, 2317, 2324, 2331, 2332, 2337, 2339, 2340, 2343, 2363, 2364, 2365, 2368, 2369, 2370, 2372, 2373, 2374, 2379, 2384, 2388, 2392, 2396, 2397, 2398, 2401, 2407, 2414, 2417, 2420, 2422, 2423, 2441, 2447, 2452, 2460, 2465, 2467, 2468, 2474, 2475, 2476, 2477, 2488, 2497, 2505, 2510, 2511, 2513, 2514, 2515, 2520, 2523, 2527, 2532, 2543, 2545, 2547, 2553, 2554, 2560, 2571, 2572, 2573, 2574, 2578, 2579, 2581, 2582, 2583, 2586, 2587, 2593, 2606, 2607, 2608, 2609, 2613, 2614, 2619, 2624, 2626, 2629, 2631, 2641, 2646, 2647, 2652, 2654, 2656, 2657, 2659, 2674, 2676, 2683, 2687, 2689, 2690, 2691, 2694, 2697, 2698, 2699, 2704, 2705, 2706, 2719, 2726, 2729, 2731, 2732, 2733, 2738, 2741, 2747, 2750, 2755, 2756, 2758, 2760, 2762, 2764, 2766, 2768, 2770, 2773, 2775, 2778, 2781, 2784, 2786, 2788, 2790, 2791, 2793, 2798, 2799, 2808, 2809, 2814, 2817, 2828, 2831, 2832, 2834, 2838, 2841, 2849, 2852, 2859, 2862, 2867, 2875, 2884, 2885, 2900, 2901, 2903, 2914, 2922, 2936, 2942, 2943, 2944, 2948, 2951, 2952, 2957, 2960, 2964, 2966, 2970, 2974, 2975, 2979, 2981, 2983, 2997, 3002, 3006, 3009, 3011, 3019, 3020, 3025, 3027, 3032, 3036, 3037, 3038, 3039, 3044, 3045, 3049, 3059, 3061, 3064, 3073, 3074, 3078, 3081, 3085, 3086, 3088, 3089, 3092, 3096, 3100, 3101, 3103, 3106, 3117, 3127, 3135, 3136, 3139, 3141, 3142, 3149, 3151, 3155, 3159, 3160, 3161, 3167, 3171, 3173, 3175, 3177, 3181, 3187, 3188, 3192, 3198, 3201, 3203, 3204, 3207, 3210, 3211, 3214, 3221, 3226, 3231, 3233, 3235, 3238, 3244, 3251, 3256, 3257, 3259, 3266, 3273, 3277, 3281, 3282, 3284, 3286, 3287, 3292, 3294, 3296, 3298, 3299, 3303, 3304, 3305, 3306, 3310, 3314, 3315, 3316, 3318, 3321, 3322, 3324, 3335, 3339, 3343, 3344, 3347, 3348, 3350, 3351, 3356, 3357, 3365, 3367, 3372, 3390, 3397, 3400, 3403, 3405, 3406, 3409, 3412, 3413, 3414, 3415, 3419, 3420, 3421, 3424, 3428, 3437, 3439, 3440, 3446, 3449, 3452, 3455, 3456, 3458, 3460, 3461, 3466, 3467, 3468, 3472, 3474, 3485, 3486, 3497, 3501, 3502, 3503, 3506, 3522, 3531, 3534, 3539, 3540, 3541, 3544, 3553, 3558, 3559, 3560, 3572, 3580, 3583, 3587, 3588, 3590, 3592, 3595, 3596, 3601, 3604, 3606, 3611, 3629, 3633, 3635, 3644, 3646, 3649, 3653, 3657, 3659, 3666, 3671, 3682, 3684, 3685, 3686, 3688, 3697, 3699, 3704, 3706, 3711, 3723, 3738, 3740, 3744, 3747, 3755, 3757, 3759, 3761, 3765, 3769, 3770, 3774, 3780, 3781, 3782, 3786, 3787, 3789, 3790, 3795, 3796, 3809, 3810, 3813, 3815, 3818, 3819, 3820, 3830, 3832, 3834, 3835, 3840, 3844, 3845, 3848, 3852, 3853, 3854, 3858, 3864, 3867, 3872, 3877, 3889, 3890, 3891, 3897, 3902, 3912, 3919, 3920, 3930, 3936, 3937, 3938, 3943, 3947, 3960, 3963, 3978, 3979, 3989, 3994, 3996, 4027, 4031, 4032, 4034, 4035, 4038, 4044, 4047, 4050, 4052, 4065, 4068, 4076, 4080, 4081, 4084, 4086, 4092, 4093, 4094, 4100, 4107, 4108, 4110, 4112, 4117, 4118, 4128, 4129, 4135, 4136, 4143, 4145, 4146, 4147, 4154, 4159, 4162, 4168, 4172, 4173, 4174, 4176, 4177, 4179, 4182, 4187, 4189, 4191, 4194, 4195, 4197, 4201, 4204, 4206, 4207, 4208, 4213, 4215, 4216, 4217, 4221, 4236, 4239, 4241, 4243, 4254, 4255, 4264, 4273, 4277, 4288, 4290, 4293, 4297, 4298, 4299, 4301, 4304, 4313, 4320, 4324, 4327, 4333, 4337, 4342, 4348, 4357, 4361, 4363, 4372, 4373, 4374, 4375, 4384, 4398, 4400, 4405, 4410, 4413, 4416, 4423, 4424, 4432, 4448, 4449, 4457, 4461, 4468, 4469, 4470, 4474, 4484, 4494, 4495, 4499, 4503, 4504, 4505, 4507, 4511, 4515, 4516, 4518, 4536, 4546, 4551, 4558, 4559, 4563, 4567, 4576, 4582, 4584, 4586, 4589, 4594, 4595, 4599, 4613, 4634, 4639, 4641, 4645, 4649, 4652, 4654, 4657, 4659, 4660, 4661, 4664, 4665, 4667, 4668, 4674, 4677, 4686, 4687, 4694, 4697, 4701, 4702, 4716, 4718, 4719, 4720, 4721, 4723, 4724, 4731, 4734, 4735, 4737, 4741, 4743, 4744, 4748, 4750, 4751, 4752, 4755, 4757, 4762, 4764, 4765, 4768, 4772, 4773, 4774, 4776, 4778, 4779, 4780, 4784, 4785, 4794, 4795, 4797, 4801, 4802, 4809, 4811, 4813, 4815, 4816, 4817, 4831, 4833, 4842, 4843, 4847, 4850, 4853, 4858, 4859, 4864, 4866, 4871, 4873, 4874, 4876, 4882, 4885, 4888, 4889, 4895, 4898, 4900, 4903, 4904, 4912, 4919, 4920, 4921, 4924, 4925, 4929, 4930, 4931, 4937, 4943, 4944, 4947, 4949, 4955, 4959, 4960, 4968, 4971, 4981, 4982, 4986, 4990, 4994, 4998, 4999, 5000, 5001, 5003, 5006, 5007, 5008, 5009, 5010, 5017, 5018, 5022, 5025, 5031, 5033, 5041, 5043, 5044, 5048, 5049, 5052, 5056, 5058, 5060, 5062, 5064, 5066, 5067, 5068, 5069, 5071, 5072, 5073, 5075, 5080, 5085, 5088, 5090, 5092, 5094, 5095, 5100, 5102, 5103, 5104, 5110, 5115, 5116, 5122, 5125, 5130, 5132, 5137, 5143, 5149, 5154, 5156, 5157, 5160, 5164, 5165, 5166, 5167, 5168, 5170, 5174, 5180, 5195, 5204, 5206, 5208, 5212, 5215, 5218, 5221, 5229, 5235, 5240, 5252, 5255, 5257, 5258, 5259, 5266, 5275, 5290, 5291, 5296, 5297, 5300, 5313, 5315, 5317, 5329, 5332, 5336, 5337, 5343, 5349, 5358, 5363, 5371, 5372, 5375, 5381, 5383, 5384, 5385, 5392, 5396, 5398, 5399, 5401, 5407, 5408, 5413, 5416, 5423, 5427, 5434, 5435, 5440, 5443, 5446, 5447, 5449, 5451, 5454, 5460, 5461, 5464, 5466, 5469, 5475, 5476, 5484, 5486, 5487, 5489, 5497, 5499, 5504, 5511, 5512, 5513, 5514, 5516, 5517, 5521, 5525, 5528, 5529, 5533, 5534, 5537, 5541, 5542, 5545, 5557, 5559, 5560, 5568, 5579, 5581, 5582, 5586, 5589, 5591, 5592, 5593, 5594, 5596, 5602, 5609, 5610, 5611, 5622, 5626, 5629, 5630, 5631, 5645, 5657, 5658, 5665, 5668, 5670, 5671, 5674, 5679, 5680, 5690, 5691, 5692, 5694, 5696, 5704, 5707, 5718, 5724, 5729, 5731, 5733, 5736, 5739, 5742, 5743, 5748, 5753, 5757, 5764, 5768, 5770, 5778, 5783, 5785, 5791, 5793, 5802, 5805, 5808, 5814, 5817, 5823, 5825, 5832, 5835, 5839, 5841, 5842, 5845, 5846, 5847, 5851, 5855, 5858, 5859, 5862, 5864, 5868, 5871, 5873, 5885, 5892, 5908, 5918, 5930, 5933, 5934, 5936, 5939, 5942, 5943, 5945, 5948, 5952, 5962, 5968, 5973, 5977, 5983, 5984, 5986, 5994, 5997, 5999, 6002, 6003, 6013, 6020, 6024, 6027, 6032, 6034]\n"
     ]
    }
   ],
   "source": [
    "# 각 사용자별 평균 평점이 4점 이상인 사용자 구하기\n",
    "user = []\n",
    "for i in range (0,6040):\n",
    "    if user_list[i][1] >= 4 :\n",
    "        user.append((i+1))\n",
    "    if i== 6040 :\n",
    "        break\n",
    "print(user)"
   ]
  },
  {
   "cell_type": "code",
   "execution_count": 49,
   "id": "aa5502e5",
   "metadata": {},
   "outputs": [
    {
     "data": {
      "text/plain": [
       "array([[1.00000000e+00, 4.18867925e+00],\n",
       "       [2.00000000e+00, 3.71317829e+00],\n",
       "       [3.00000000e+00, 3.90196078e+00],\n",
       "       ...,\n",
       "       [6.03800000e+03, 3.80000000e+00],\n",
       "       [6.03900000e+03, 3.87804878e+00],\n",
       "       [6.04000000e+03, 3.57771261e+00]])"
      ]
     },
     "execution_count": 49,
     "metadata": {},
     "output_type": "execute_result"
    }
   ],
   "source": [
    "# 각 사용자별 평균 평점이 4점 이상인 사용자 구하기\n",
    "user_np = np.array(user_list)\n",
    "user_np"
   ]
  },
  {
   "cell_type": "code",
   "execution_count": 50,
   "id": "301bf6df",
   "metadata": {},
   "outputs": [
    {
     "data": {
      "text/plain": [
       "array([ True, False, False, ..., False, False, False])"
      ]
     },
     "execution_count": 50,
     "metadata": {},
     "output_type": "execute_result"
    }
   ],
   "source": [
    "over4bol = user_np[:,1] >= 4\n",
    "over4bol"
   ]
  },
  {
   "cell_type": "code",
   "execution_count": 54,
   "id": "40f93717",
   "metadata": {},
   "outputs": [
    {
     "data": {
      "text/plain": [
       "array([   1,    4,    7, ..., 6027, 6032, 6034])"
      ]
     },
     "execution_count": 54,
     "metadata": {},
     "output_type": "execute_result"
    }
   ],
   "source": [
    "user_np[over4bol] # 평균 평점이 4점 이상인 사용자의 모든 정보\n",
    "user_np[over4bol,0].astype('int') # astype = 형변환함수"
   ]
  }
 ],
 "metadata": {
  "kernelspec": {
   "display_name": "Python 3 (ipykernel)",
   "language": "python",
   "name": "python3"
  },
  "language_info": {
   "codemirror_mode": {
    "name": "ipython",
    "version": 3
   },
   "file_extension": ".py",
   "mimetype": "text/x-python",
   "name": "python",
   "nbconvert_exporter": "python",
   "pygments_lexer": "ipython3",
   "version": "3.9.7"
  }
 },
 "nbformat": 4,
 "nbformat_minor": 5
}
